{
 "cells": [
  {
   "cell_type": "code",
   "execution_count": 311,
   "metadata": {},
   "outputs": [],
   "source": [
    "import numpy as np\n",
    "from collections import defaultdict\n",
    "import time\n",
    "import matplotlib.pyplot as plt\n",
    "import seaborn as sn\n",
    "from matplotlib.colors import LinearSegmentedColormap\n",
    "\n",
    "W = LinearSegmentedColormap.from_list('w', [\"w\", \"w\"], N=256)"
   ]
  },
  {
   "cell_type": "code",
   "execution_count": 189,
   "metadata": {},
   "outputs": [],
   "source": [
    "#Starting State = (1/0)\n",
    "#Terminal State = (2,3)\n",
    "\n",
    "Move_Reward = -1\n",
    "Final_Reward = 10\n",
    "\n",
    "ACTIONS = {\n",
    "    0: [1, 0],   # north\n",
    "    1: [-1, 0],  # south\n",
    "    2: [0, -1],  # west\n",
    "    3: [0, 1],   # east\n",
    "}\n",
    "discount = 1"
   ]
  },
  {
   "cell_type": "code",
   "execution_count": 330,
   "metadata": {},
   "outputs": [],
   "source": [
    "class GridWorld:\n",
    "    \n",
    "    def __init__(self,size = 4,iters= 1):\n",
    "        \n",
    "        self.Q = defaultdict(lambda: np.zeros(4))\n",
    "        self.size = size\n",
    "        self.iters = iters\n",
    "        self.eps = 1\n",
    "        self.eps_decay = 0.9999997\n",
    "        self.eps_min = 0.05\n",
    "        self.N = defaultdict(lambda: np.zeros(4))\n",
    "        self.Returns = defaultdict(lambda: np.zeros(4))\n",
    "    \n",
    "    #Get Starting State\n",
    "    def reset(self):\n",
    "        state = (1,0)\n",
    "        return state\n",
    "        \n",
    "    #Perform Action\n",
    "    def step(self,state,action):\n",
    "        \n",
    "        done = False\n",
    "        \n",
    "        if state == (self.size-2,self.size-1):\n",
    "            reward = Final_Reward\n",
    "            done = True\n",
    "            return state,reward,done\n",
    "        s_1 = (state[0]+action[0],state[1]+action[1])\n",
    "        reward = Move_Reward\n",
    "        \n",
    "        if s_1[0]<0 or s_1[0]>=(self.size):\n",
    "            s_1 = state\n",
    "            \n",
    "        if s_1[1]<0 or s_1[1]>=(self.size):\n",
    "            s_1 = state\n",
    "            \n",
    "        return s_1,reward,done\n",
    "    \n",
    "    #Get the probablity of every action/ Depends upon the value epsilon which decays through time\n",
    "    def get_action_prob(self,Q_S):\n",
    "        \n",
    "        action_probs = np.ones(len(ACTIONS))*(self.eps/len(ACTIONS))\n",
    "        best_action = np.argmax(Q_S)\n",
    "        action_probs[best_action] = (1-self.eps) + self.eps/len(ACTIONS)\n",
    "        return action_probs\n",
    "        \n",
    "    #Select the best action\n",
    "    def best_policy(self):\n",
    "        \n",
    "        return dict((state,np.argmax(action))for state,action in self.Q.items())\n",
    "    \n",
    "    #Generate random episdoe for the agent to learn upon\n",
    "    def get_episode(self):\n",
    "        \n",
    "        trajectory = []\n",
    "        \n",
    "        state = self.reset()\n",
    "        \n",
    "        while True:\n",
    "            #Getting the action\n",
    "            action_probs = self.get_action_prob(self.Q[state])\n",
    "            action_to_select = np.random.choice(np.arange(len(ACTIONS)),p = action_probs) if state in self.Q else np.random.randint(0,4) \n",
    "            action = ACTIONS.get(action_to_select)\n",
    "            \n",
    "            next_state,reward,done = self.step(state,action)\n",
    "            trajectory.append((state,action,reward))\n",
    "            state = next_state\n",
    "            \n",
    "            if done:\n",
    "                break\n",
    "                \n",
    "        return trajectory \n",
    "    \n",
    "    #Update the state_action_values \n",
    "    def update_Q(self):\n",
    "        \n",
    "        tra = self.get_episode()\n",
    "        states,actions,rewards = zip(*tra)\n",
    "        #print(tra)\n",
    "        \n",
    "        for i,state in enumerate(states):\n",
    "            \n",
    "            if actions[i] == [1, 0]:\n",
    "                a = 0\n",
    "            elif actions[i] == [-1,0]:\n",
    "                a = 1\n",
    "            elif actions[i] == [0,-1]:\n",
    "                a = 2\n",
    "            elif actions[i] == [0,1]:\n",
    "                a = 3\n",
    "            \n",
    "            self.N[state][a] += 1\n",
    "            alpha = 1/self.N[state][a]\n",
    "            self.Q[state][a] += alpha*(sum(rewards[i:])-self.Q[state][a])\n",
    "        \n",
    "        return self.Q\n",
    "    \n",
    "    #Main Loop calling update_Q and decaying Epsilon \n",
    "    def Monte_Carlo_On_Policy(self):\n",
    "        \n",
    "        for i in range(self.iters):\n",
    "            \n",
    "            if i % 5 == 0:\n",
    "                print(\"In Loop {:.5f}\".format(i), end=\"\\r\")\n",
    "            \n",
    "            self.eps = max(self.eps_min,self.eps_decay*self.eps)\n",
    "\n",
    "            self.Q = self.update_Q()\n",
    "            \n",
    "        policy = self.best_policy()\n",
    "        \n",
    "        return self.Q,policy\n",
    "        \n",
    "    #Selecting the best_value function\n",
    "    def best_value(self):\n",
    "        \n",
    "        return dict((state,np.max(action))for state,action in self.Q.items())\n",
    "    \n",
    "    def render(self,values_matrix, title=None):\n",
    "\n",
    "        size = len(values_matrix) if len(values_matrix) < 20 else 20\n",
    "        fig, ax = plt.subplots(figsize=(size, size))\n",
    "        if title is not None:ax.set_title(title)\n",
    "        ax.grid(which='major', axis='both',linestyle='-', color='k', linewidth=2)\n",
    "        sn.heatmap(values_matrix, annot=True, fmt=\".1f\", cmap=W,linewidths=1, linecolor=\"black\", cbar=False)\n",
    "        plt.show()\n",
    "        return fig, ax\n",
    "            "
   ]
  },
  {
   "cell_type": "code",
   "execution_count": 347,
   "metadata": {},
   "outputs": [
    {
     "name": "stdout",
     "output_type": "stream",
     "text": [
      "In Loop 199995.00000\r"
     ]
    }
   ],
   "source": [
    "iters = 200000\n",
    "env = GridWorld(4,iters)\n",
    "\n",
    "Q,policy = env.Monte_Carlo_On_Policy()"
   ]
  },
  {
   "cell_type": "code",
   "execution_count": 348,
   "metadata": {},
   "outputs": [],
   "source": [
    "value = env.best_value() "
   ]
  },
  {
   "cell_type": "code",
   "execution_count": 349,
   "metadata": {},
   "outputs": [
    {
     "data": {
      "text/plain": [
       "{(1, 0): 3,\n",
       " (1, 1): 3,\n",
       " (2, 0): 3,\n",
       " (3, 0): 3,\n",
       " (2, 1): 3,\n",
       " (3, 1): 3,\n",
       " (3, 2): 3,\n",
       " (2, 2): 3,\n",
       " (1, 2): 3,\n",
       " (1, 3): 0,\n",
       " (0, 2): 3,\n",
       " (0, 1): 3,\n",
       " (0, 0): 3,\n",
       " (2, 3): 0,\n",
       " (0, 3): 0,\n",
       " (3, 3): 1}"
      ]
     },
     "execution_count": 349,
     "metadata": {},
     "output_type": "execute_result"
    }
   ],
   "source": [
    "policy"
   ]
  },
  {
   "cell_type": "code",
   "execution_count": 350,
   "metadata": {},
   "outputs": [
    {
     "data": {
      "text/plain": [
       "defaultdict(<function __main__.GridWorld.__init__.<locals>.<lambda>()>,\n",
       "            {(1,\n",
       "              0): array([-24.55130769, -27.07305062, -25.94546593, -22.24139123]),\n",
       "             (1,\n",
       "              1): array([-20.02071841, -24.26058341, -25.81634853, -15.95148157]),\n",
       "             (2,\n",
       "              0): array([-24.23455614, -26.10096866, -24.66540363, -20.02264977]),\n",
       "             (3,\n",
       "              0): array([-24.26313358, -24.76086194, -24.28828868, -19.92004444]),\n",
       "             (2,\n",
       "              1): array([-19.8247978 , -22.49612165, -24.75790919, -10.18376658]),\n",
       "             (3,\n",
       "              1): array([-19.87705918, -20.29296937, -24.05353454, -11.95566274]),\n",
       "             (3,\n",
       "              2): array([-12.14942076, -10.38361251, -19.66591027,  -3.08451284]),\n",
       "             (2,\n",
       "              2): array([-12.07459899, -16.07654911, -19.9338753 ,   9.        ]),\n",
       "             (1,\n",
       "              2): array([-10.21399539, -19.99509272, -22.24537578,  -8.31878336]),\n",
       "             (1,\n",
       "              3): array([  9.        , -15.63604868, -15.9821275 ,  -8.23851321]),\n",
       "             (0,\n",
       "              2): array([-16.01181904, -20.00628411, -24.39029657, -15.54741456]),\n",
       "             (0,\n",
       "              1): array([-22.46165023, -24.25998463, -26.92815548, -19.7880212 ]),\n",
       "             (0,\n",
       "              0): array([-26.05204922, -27.10198495, -27.06914803, -24.18440489]),\n",
       "             (2, 3): array([10., 10., 10., 10.]),\n",
       "             (0,\n",
       "              3): array([ -8.16373402, -15.71180081, -19.81797159, -15.6379898 ]),\n",
       "             (3,\n",
       "              3): array([ -3.22040525,   9.        , -12.28834163,  -2.92670032])})"
      ]
     },
     "execution_count": 350,
     "metadata": {},
     "output_type": "execute_result"
    }
   ],
   "source": [
    "Q"
   ]
  },
  {
   "cell_type": "code",
   "execution_count": 351,
   "metadata": {},
   "outputs": [],
   "source": [
    "#Fitting all the values into numpy array to render\n",
    "values_matrix = np.zeros((env.size,env.size))\n",
    "for x in value:\n",
    "    values_matrix[x] = value[x]"
   ]
  },
  {
   "cell_type": "code",
   "execution_count": 352,
   "metadata": {},
   "outputs": [
    {
     "data": {
      "image/png": "[encoded data removed]",
      "text/plain": [
       "<Figure size 288x288 with 1 Axes>"
      ]
     },
     "metadata": {
      "needs_background": "light"
     },
     "output_type": "display_data"
    },
    {
     "data": {
      "text/plain": [
       "(<Figure size 288x288 with 1 Axes>, <AxesSubplot:>)"
      ]
     },
     "execution_count": 352,
     "metadata": {},
     "output_type": "execute_result"
    }
   ],
   "source": [
    "env.render(values_matrix)"
   ]
  },
  {
   "cell_type": "code",
   "execution_count": null,
   "metadata": {},
   "outputs": [],
   "source": []
  }
 ],
 "metadata": {
  "kernelspec": {
   "display_name": "Python 3",
   "language": "python",
   "name": "python3"
  },
  "language_info": {
   "codemirror_mode": {
    "name": "ipython",
    "version": 3
   },
   "file_extension": ".py",
   "mimetype": "text/x-python",
   "name": "python",
   "nbconvert_exporter": "python",
   "pygments_lexer": "ipython3",
   "version": "3.8.5"
  }
 },
 "nbformat": 4,
 "nbformat_minor": 4
}
