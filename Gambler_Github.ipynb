{
 "cells": [
  {
   "cell_type": "code",
   "execution_count": 52,
   "metadata": {},
   "outputs": [],
   "source": [
    "import numpy as np\n",
    "import matplotlib.pyplot as plt\n",
    "%matplotlib inline\n",
    "import time\n",
    "import sys\n",
    "np.set_printoptions(threshold=sys.maxsize)"
   ]
  },
  {
   "cell_type": "code",
   "execution_count": 46,
   "metadata": {},
   "outputs": [],
   "source": [
    "MAX_MONEY = 100\n",
    "\n",
    "discount = 1\n",
    "\n",
    "final_reward = 1\n",
    "\n",
    "tran_reward = 0\n",
    "\n",
    "prob_heads = 0.25"
   ]
  },
  {
   "cell_type": "code",
   "execution_count": 47,
   "metadata": {},
   "outputs": [],
   "source": [
    "class GamblerProblem:\n",
    "    \n",
    "    def __init__(self,size = MAX_MONEY):\n",
    "\n",
    "        self.state_values = np.zeros((MAX_MONEY+1,))\n",
    "        self.state_values[MAX_MONEY] = final_reward\n",
    "        return\n",
    "        \n",
    "    def all_states(self):\n",
    "        return range(MAX_MONEY+1)\n",
    "    \n",
    "    def all_actions(self,state=MAX_MONEY+1):\n",
    "        return range(min(state,MAX_MONEY-state)+1)\n",
    "    \n",
    "    def step(self,state,action):\n",
    "        \n",
    "        next_state = state+action\n",
    "        \n",
    "        if next_state>=MAX_MONEY:\n",
    "            reward = 1\n",
    "        \n",
    "        else:\n",
    "            reward = 0\n",
    "            \n",
    "        return next_state,reward\n",
    "        \n",
    "    \n",
    "    def bellman_expectaion(self,state,action):\n",
    "        next_state,reward = self.step(state,action)\n",
    "        return prob_heads*(reward + discount*self.state_values[next_state])\n",
    "    \n",
    "    def value_iteration(self,theta = 1e-4):\n",
    "        \n",
    "        old_values = []\n",
    "        count = 0\n",
    "        \n",
    "        #For Plotting Delta vs iterations\n",
    "        delta_plot = []\n",
    "        \n",
    "        print('Performing Value Iteration')\n",
    "        \n",
    "        while True:\n",
    "            \n",
    "            old_values.append(self.state_values.copy())\n",
    "            \n",
    "            for state in self.all_states():\n",
    "                best_value = self.state_values[state]\n",
    "                for action in self.all_actions(state):\n",
    "                    \n",
    "                    new_value = self.bellman_expectaion(state,action)\n",
    "                    \n",
    "                    if new_value>best_value:\n",
    "                        best_value = new_value\n",
    "                        \n",
    "                self.state_values[state] = best_value\n",
    "            \n",
    "            if count>0:\n",
    "                delta = np.absolute(np.sum(old_values[count])-np.sum(old_values[count-1]))\n",
    "                print(\"Delta {:.5f}\".format(delta), end=\"\\r\")\n",
    "                delta_plot.append(delta)\n",
    "\n",
    "                if delta<theta:\n",
    "                    print('Found Optimal Value Function in {} steps'.format(count+1))\n",
    "                    break\n",
    "                    #We will use break here instead of using \"return old_values\" to plot Delta versus Iterations\n",
    "                    #return old_values\n",
    "                    \n",
    "            \n",
    "            count+=1\n",
    "        \n",
    "        #Plotting iterations versus Delta\n",
    "        plt.figure(figsize=(12,8))\n",
    "        plt.plot(delta_plot, label=\".\")\n",
    "        plt.xlabel(\"Iterations\")\n",
    "        plt.ylabel(\"Delta\")\n",
    "        plt.title(\"Delta versus Iterations\")\n",
    "        return old_values\n",
    "    \n",
    "    def get_policy(self):\n",
    "        \n",
    "        policy = np.zeros((MAX_MONEY+1,))\n",
    "        \n",
    "        for state in self.all_states():\n",
    "            \n",
    "            best_action = policy[state]\n",
    "            best_value = self.state_values[state]\n",
    "            \n",
    "            for action in self.all_actions(state):\n",
    "                \n",
    "                new_value = self.bellman_expectaion(state,action)\n",
    "                \n",
    "                if new_value>best_value:\n",
    "                    best_value = new_value\n",
    "                    best_action = action\n",
    "                    \n",
    "            policy[state] = action\n",
    "            \n",
    "        return policy"
   ]
  },
  {
   "cell_type": "code",
   "execution_count": 48,
   "metadata": {},
   "outputs": [],
   "source": [
    "env = GamblerProblem()"
   ]
  },
  {
   "cell_type": "code",
   "execution_count": 49,
   "metadata": {},
   "outputs": [
    {
     "name": "stdout",
     "output_type": "stream",
     "text": [
      "Performing Value Iteration\n",
      "Delta 25.00000\r",
      "Delta 3.12500\r",
      "Delta 0.37500\r",
      "Delta 0.04688\r",
      "Delta 0.00586\r",
      "Delta 0.00098\r",
      "Delta 0.00012\r",
      "Delta 0.00000\r",
      "Found Optimal Value Function in 9 steps\n"
     ]
    },
    {
     "data": {
      "image/png": "[encoded data removed]",
      "text/plain": [
       "<Figure size 864x576 with 1 Axes>"
      ]
     },
     "metadata": {
      "needs_background": "light"
     },
     "output_type": "display_data"
    }
   ],
   "source": [
    "cache = env.value_iteration()\n",
    "policy = env.get_policy()"
   ]
  },
  {
   "cell_type": "code",
   "execution_count": 50,
   "metadata": {},
   "outputs": [
    {
     "data": {
      "text/plain": [
       "array([0.00000000e+00, 1.22070312e-04, 4.88281250e-04, 4.88281250e-04,\n",
       "       1.95312500e-03, 1.95312500e-03, 1.95312500e-03, 7.81250000e-03,\n",
       "       7.81250000e-03, 7.81250000e-03, 7.81250000e-03, 7.81250000e-03,\n",
       "       7.81250000e-03, 3.12500000e-02, 3.12500000e-02, 3.12500000e-02,\n",
       "       3.12500000e-02, 3.12500000e-02, 3.12500000e-02, 3.12500000e-02,\n",
       "       3.12500000e-02, 3.12500000e-02, 3.12500000e-02, 3.12500000e-02,\n",
       "       3.12500000e-02, 1.25000000e-01, 1.25000000e-01, 1.25000000e-01,\n",
       "       1.25000000e-01, 1.25000000e-01, 1.25000000e-01, 1.25000000e-01,\n",
       "       1.25000000e-01, 1.25000000e-01, 1.25000000e-01, 1.25000000e-01,\n",
       "       1.25000000e-01, 1.25000000e-01, 1.25000000e-01, 1.25000000e-01,\n",
       "       1.25000000e-01, 1.25000000e-01, 1.25000000e-01, 1.25000000e-01,\n",
       "       1.25000000e-01, 1.25000000e-01, 1.25000000e-01, 1.25000000e-01,\n",
       "       1.25000000e-01, 1.25000000e-01, 5.00000000e-01, 5.00000000e-01,\n",
       "       5.00000000e-01, 5.00000000e-01, 5.00000000e-01, 5.00000000e-01,\n",
       "       5.00000000e-01, 5.00000000e-01, 5.00000000e-01, 5.00000000e-01,\n",
       "       5.00000000e-01, 5.00000000e-01, 5.00000000e-01, 5.00000000e-01,\n",
       "       5.00000000e-01, 5.00000000e-01, 5.00000000e-01, 5.00000000e-01,\n",
       "       5.00000000e-01, 5.00000000e-01, 5.00000000e-01, 5.00000000e-01,\n",
       "       5.00000000e-01, 5.00000000e-01, 5.00000000e-01, 5.00000000e-01,\n",
       "       5.00000000e-01, 5.00000000e-01, 5.00000000e-01, 5.00000000e-01,\n",
       "       5.00000000e-01, 5.00000000e-01, 5.00000000e-01, 5.00000000e-01,\n",
       "       5.00000000e-01, 5.00000000e-01, 5.00000000e-01, 5.00000000e-01,\n",
       "       5.00000000e-01, 5.00000000e-01, 5.00000000e-01, 5.00000000e-01,\n",
       "       5.00000000e-01, 5.00000000e-01, 5.00000000e-01, 5.00000000e-01,\n",
       "       5.00000000e-01, 5.00000000e-01, 5.00000000e-01, 5.00000000e-01,\n",
       "       1.00000000e+00])"
      ]
     },
     "execution_count": 50,
     "metadata": {},
     "output_type": "execute_result"
    }
   ],
   "source": [
    "env.state_values"
   ]
  },
  {
   "cell_type": "code",
   "execution_count": 51,
   "metadata": {},
   "outputs": [
    {
     "name": "stdout",
     "output_type": "stream",
     "text": [
      "[ 0.  1.  2.  3.  4.  5.  6.  7.  8.  9. 10. 11. 12. 13. 14. 15. 16. 17.\n",
      " 18. 19. 20. 21. 22. 23. 24. 25. 26. 27. 28. 29. 30. 31. 32. 33. 34. 35.\n",
      " 36. 37. 38. 39. 40. 41. 42. 43. 44. 45. 46. 47. 48. 49. 50. 49. 48. 47.\n",
      " 46. 45. 44. 43. 42. 41. 40. 39. 38. 37. 36. 35. 34. 33. 32. 31. 30. 29.\n",
      " 28. 27. 26. 25. 24. 23. 22. 21. 20. 19. 18. 17. 16. 15. 14. 13. 12. 11.\n",
      " 10.  9.  8.  7.  6.  5.  4.  3.  2.  1.  0.]\n"
     ]
    }
   ],
   "source": [
    "print(policy)"
   ]
  },
  {
   "cell_type": "code",
   "execution_count": null,
   "metadata": {},
   "outputs": [],
   "source": []
  },
  {
   "cell_type": "code",
   "execution_count": null,
   "metadata": {},
   "outputs": [],
   "source": []
  }
 ],
 "metadata": {
  "kernelspec": {
   "display_name": "Python 3",
   "language": "python",
   "name": "python3"
  },
  "language_info": {
   "codemirror_mode": {
    "name": "ipython",
    "version": 3
   },
   "file_extension": ".py",
   "mimetype": "text/x-python",
   "name": "python",
   "nbconvert_exporter": "python",
   "pygments_lexer": "ipython3",
   "version": "3.8.5"
  }
 },
 "nbformat": 4,
 "nbformat_minor": 4
}
