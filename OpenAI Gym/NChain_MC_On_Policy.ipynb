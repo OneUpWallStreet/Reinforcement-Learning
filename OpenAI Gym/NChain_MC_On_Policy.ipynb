{
 "cells": [
  {
   "cell_type": "code",
   "execution_count": 60,
   "metadata": {},
   "outputs": [],
   "source": [
    "import gym\n",
    "import numpy as np\n",
    "from collections import defaultdict"
   ]
  },
  {
   "cell_type": "code",
   "execution_count": 61,
   "metadata": {},
   "outputs": [],
   "source": [
    "def best_policy(Q):\n",
    "    \n",
    "    return dict((state,np.argmax(best_action)) for state,best_action in Q.items())"
   ]
  },
  {
   "cell_type": "code",
   "execution_count": 62,
   "metadata": {},
   "outputs": [],
   "source": [
    "def best_value(Q):\n",
    "    \n",
    "    return dict((state,np.max(action)) for state,action in Q.items())"
   ]
  },
  {
   "cell_type": "code",
   "execution_count": 63,
   "metadata": {},
   "outputs": [],
   "source": [
    "env = gym.make('NChain-v0')"
   ]
  },
  {
   "cell_type": "code",
   "execution_count": 64,
   "metadata": {},
   "outputs": [],
   "source": [
    "def get_action_prob(Q_s,state,nA,eps):\n",
    "    \n",
    "    action_prob = np.ones(nA)*(eps/nA)\n",
    "    best_action = np.argmax(Q_s)\n",
    "    action_prob[best_action] = (1-eps) + (eps/nA)\n",
    "    return action_prob"
   ]
  },
  {
   "cell_type": "code",
   "execution_count": 65,
   "metadata": {},
   "outputs": [],
   "source": [
    "def get_trajectory(Q,eps,nA):\n",
    "    \n",
    "    state = env.reset()\n",
    "    trajectory = []\n",
    "    \n",
    "    while True:\n",
    "        \n",
    "        action_prob = get_action_prob(Q[state],state,nA,eps) \n",
    "        action = np.random.choice(np.arange(nA),p=action_prob) if state in Q else env.action_space.sample()\n",
    "        \n",
    "        next_state,reward,done,_ = env.step(action)\n",
    "        trajectory.append((state,action,reward))\n",
    "        state = next_state\n",
    "        if done:\n",
    "            break\n",
    "        \n",
    "    return trajectory"
   ]
  },
  {
   "cell_type": "code",
   "execution_count": 66,
   "metadata": {},
   "outputs": [],
   "source": [
    "def update_Q(tra,Q,alpha):\n",
    "    \n",
    "    states,actions,rewards = zip(*tra)\n",
    "    \n",
    "    for i,state in enumerate(states):\n",
    "        \n",
    "        old_Q = Q[state][actions[i]]\n",
    "        Q[state][actions[i]] = old_Q + alpha*(sum(rewards[i:]) - old_Q)\n",
    "        \n",
    "    return Q"
   ]
  },
  {
   "cell_type": "code",
   "execution_count": 67,
   "metadata": {},
   "outputs": [],
   "source": [
    "def MC_Control(alpha,eps_start,eps_min,eps_decay,Q,nA,iters):\n",
    "    \n",
    "    eps = eps_start\n",
    "    for _ in range(iters):\n",
    "        \n",
    "        eps = max(eps_min,eps*eps_decay)\n",
    "        tra = get_trajectory(Q,eps,nA)\n",
    "        Q = update_Q(tra,Q,alpha)\n",
    "        policy = best_policy(Q)\n",
    "    return Q,policy"
   ]
  },
  {
   "cell_type": "code",
   "execution_count": 68,
   "metadata": {},
   "outputs": [],
   "source": [
    "nA = env.action_space.n\n",
    "Q = defaultdict(lambda: np.zeros(nA))\n",
    "eps_start = 1\n",
    "eps_min = 0.05\n",
    "eps_decay = 0.995\n",
    "iters = 10\n",
    "alpha = 0.02\n",
    "\n",
    "Q,policy = MC_Control(alpha,eps_start,eps_min,eps_decay,Q,nA,iters)\n",
    "V = best_value(Q)"
   ]
  },
  {
   "cell_type": "code",
   "execution_count": 77,
   "metadata": {},
   "outputs": [
    {
     "name": "stdout",
     "output_type": "stream",
     "text": [
      "defaultdict(<function <lambda> at 0x7ff90b65ba60>, {0: array([255.00305524, 260.56271811]), 1: array([448.31021838, 387.06572951]), 2: array([524.46928803, 532.24413373]), 3: array([585.47985549, 559.34196663]), 4: array([557.21829031, 548.04194945])})\n",
      "{0: 260.56271811467764, 1: 448.31021837503255, 2: 532.2441337266217, 3: 585.4798554926188, 4: 557.2182903123618}\n",
      "{0: 1, 1: 0, 2: 1, 3: 0, 4: 0}\n"
     ]
    }
   ],
   "source": [
    "print(Q)\n",
    "print(V)\n",
    "print(policy)"
   ]
  },
  {
   "cell_type": "code",
   "execution_count": null,
   "metadata": {},
   "outputs": [],
   "source": []
  },
  {
   "cell_type": "code",
   "execution_count": null,
   "metadata": {},
   "outputs": [],
   "source": []
  },
  {
   "cell_type": "code",
   "execution_count": 73,
   "metadata": {},
   "outputs": [],
   "source": []
  },
  {
   "cell_type": "code",
   "execution_count": null,
   "metadata": {},
   "outputs": [],
   "source": []
  },
  {
   "cell_type": "code",
   "execution_count": null,
   "metadata": {},
   "outputs": [],
   "source": []
  }
 ],
 "metadata": {
  "kernelspec": {
   "display_name": "Python 3",
   "language": "python",
   "name": "python3"
  },
  "language_info": {
   "codemirror_mode": {
    "name": "ipython",
    "version": 3
   },
   "file_extension": ".py",
   "mimetype": "text/x-python",
   "name": "python",
   "nbconvert_exporter": "python",
   "pygments_lexer": "ipython3",
   "version": "3.8.5"
  }
 },
 "nbformat": 4,
 "nbformat_minor": 4
}
